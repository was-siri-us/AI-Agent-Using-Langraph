{
 "cells": [
  {
   "cell_type": "code",
   "execution_count": 1,
   "id": "046c7a35",
   "metadata": {},
   "outputs": [],
   "source": [
    "from langchain_community.tools import ArxivQueryRun,WikipediaQueryRun\n",
    "from langchain_community.utilities import ArxivAPIWrapper, WikipediaAPIWrapper"
   ]
  },
  {
   "cell_type": "code",
   "execution_count": 5,
   "id": "fccb0d79",
   "metadata": {},
   "outputs": [
    {
     "name": "stdout",
     "output_type": "stream",
     "text": [
      "arxiv\n"
     ]
    }
   ],
   "source": [
    "api_wrapper_arxiv = ArxivAPIWrapper(top_k_results=2,doc_content_chars_max=500)\n",
    "arxiv = ArxivQueryRun(api_wrapper=api_wrapper_arxiv,description=\"Query arxiv papers\")\n",
    "print(arxiv.name)"
   ]
  },
  {
   "cell_type": "code",
   "execution_count": 7,
   "id": "51400842",
   "metadata": {},
   "outputs": [
    {
     "name": "stdout",
     "output_type": "stream",
     "text": [
      "Published: 2007-09-12\n",
      "Title: Liquid Cooling of Bright LEDs for Automotive Applications\n",
      "Authors: Y. Lai, N. Cordero, F. Barthel, F. Tebbe, J. Kuhn, R. Apfelbeck, D. Würtenberger\n",
      "Summary: With the advances in the technology of materials based on GaN, high\n",
      "brightness white light emitting diodes (LEDs) have flourished over the past few\n",
      "years and have shown to be very promising in many new illumination applications\n",
      "such as outdoor illumination, task and decorative lighting as well as aircraft\n",
      "and aut\n"
     ]
    }
   ],
   "source": [
    "print(arxiv.invoke(\"Latest research on Liquid Cooling\"))"
   ]
  },
  {
   "cell_type": "code",
   "execution_count": 8,
   "id": "fe7a6944",
   "metadata": {},
   "outputs": [
    {
     "name": "stdout",
     "output_type": "stream",
     "text": [
      "wikipedia\n"
     ]
    }
   ],
   "source": [
    "api_wrapper_wiki = WikipediaAPIWrapper(top_k_results=2,doc_content_chars_max=5) \n",
    "wiki = WikipediaQueryRun(api_wrapper=api_wrapper_wiki,description=\"Query Wikipedia\")\n",
    "print(wiki.name)"
   ]
  },
  {
   "cell_type": "code",
   "execution_count": 10,
   "id": "e6e200b0",
   "metadata": {},
   "outputs": [],
   "source": [
    "from dotenv import load_dotenv\n",
    "load_dotenv()\n",
    "import os\n",
    "\n",
    "os.environ[\"TAVILY_API_KEY\"] = os.getenv(\"TAVILY_API_KEY\") \n",
    "os.environ[\"GROQ_API_KEY\"] = os.getenv(\"GROQ_API_KEY\")\n",
    "\n"
   ]
  },
  {
   "cell_type": "code",
   "execution_count": 11,
   "id": "5cdb7741",
   "metadata": {},
   "outputs": [],
   "source": [
    "from langchain_community.tools import TavilySearchResults\n",
    "tavily = TavilySearchResults()"
   ]
  },
  {
   "cell_type": "code",
   "execution_count": 12,
   "id": "351e914f",
   "metadata": {},
   "outputs": [
    {
     "data": {
      "text/plain": [
       "[{'title': 'Experience the Latest in Liquid Cooling Technology by CoolIT ...',\n",
       "  'url': 'https://www.hpcwire.com/2024/11/04/experience-the-latest-in-liquid-cooling-technology-by-coolit-systems-at-sc24/',\n",
       "  'content': 'A survey conducted in Spring 2024 found that 38.3% of 812 IT professionals surveyed expect to use direct liquid cooling in their data center',\n",
       "  'score': 0.6852132},\n",
       " {'title': 'Liquid Cooling - by Patrick Zhou - Deep Dive',\n",
       "  'url': 'https://deepfundamental.substack.com/p/deep-dive-liquid-cooling',\n",
       "  'content': 'Space saving: Liquid cooling allows for more compact server and rack configurations; according to a study by Schneider, liquid cooling helps save 10-14% of space vs. air cooling\\n\\nExtending equipment lifespan: Liquid cooling helps maintain more consistent temperature conditions for IT equipment, which improves hardware performance and longevity. A study from LiquidStack shows that liquid cooling extends the operational lifespan of equipment to 20-30 years from typical ~8 years with air cooling [...] Currently, Taiwan’s Cooler Master (CM) leads the market, holding 50%+ share for the first batch of GB200 racks shipped so far. Asia Vital Components (AVC), also from Taiwan, follows in second place with a c.30-40% share. Looking ahead, Aurus (Taiwan), Delta (Taiwan), CoolIT (Canada), and Boyd (U.S.) have strong potential to also enter the market. CM holds a slight technical advantage in Two-Phase DTC for ensuring uniform heat dissipation during vaporization. In China’s domestic market, Avic [...] Deep Fundamental Research\\n\\nShare this post\\n\\nDeep Dive: Liquid Cooling\\n\\nThe key infrastruture trend to support the next generation GPU clusters; How companies like Vertiv serve hyperscalers and compete in the market\\n\\nShare this post',\n",
       "  'score': 0.6429039},\n",
       " {'title': \"Solving Tomorrow's Cooling Challenges with Liquid Cooling\",\n",
       "  'url': 'https://www.coresite.com/blog/solving-tomorrows-cooling-challenges-with-liquid-cooling',\n",
       "  'content': '8. Is liquid cooling right for your data center?, Jeff Schuster, Enabled Energy Inc., Mission Critical Magazine, June 12, 2023 (source)\\n\\n9. It’s not just about chip density: Considering liquid cooling for your data center, Wendy Torell,\\xa0 Data Center Science Center, Data Center Dynamics, July 26, 2019 (source)\\n\\n10. How Power Density is Changing in Data Centers and What It Means for Liquid Cooling, JetCool (source) [...] 4. Thermal Management for Data Centers 2023-2033: Technologies, Markets and Opportunities,\\xa0 IDTechEx\\xa0 (source)\\n\\n5. Best Practices for Deploying Liquid Cooling in Existing Data Centers, David Chernicoff, Data Center Frontier, July 10, 2023 (source)\\n\\n6. Facing the Data Center Power Density Challenge, CoreSite (source)\\n\\n7. $1.6 Billion Immersion Cooling Market - Global Analysis and Forecasts, 2021-2027, ResearchAndMarkets.com, June 20, 2022 (source) [...] Forrester adds, “Between July and September 2023, the number of enterprises that are in the experimentation and expansion stages of implementing GenAI jumped from 62% to 71%, representing one of the fastest mass adoption rates of a new technology in the enterprise.”3',\n",
       "  'score': 0.64236575},\n",
       " {'title': 'Liquid Cooling in the Data Center Is a Good Thing',\n",
       "  'url': 'https://www.datacenterfrontier.com/sponsored/article/55266936/liquid-cooling-in-the-data-center-is-a-good-thing',\n",
       "  'content': \"Transforming every data center into an AI data center is not a matter of if but when. The critical updates in the field of liquid cooling since the last paper have accelerated this transformation. New innovations around manageability, ease of service, density, and new applications have propelled liquid cooling into the forefront of data center design. This is not a trend but a necessity. [...] Liquid Immersion Cooling Will Save The Data Center: Critical Design and Infrastructure Updates\\n\\nSponsored Recommendations\\n\\nExplore Trane’s Full Line of Data Center Solutions\\n\\nMaximize Efficiency with Trane’s Coolant Distribution Unit\\n\\nOptimizing AI Infrastructure: The Critical Role of Liquid Cooling\\n\\nAI-Driven Data Centers: Revolutionizing Decarbonization Strategies\\n\\nVoices of the Industry\\n\\nPowering Data Center Success with Immediate Power Solutions (IPS)\\n\\nLatest in Sponsored [...] Download the\\xa0full\\xa0report, Liquid Immersion Cooling Will Save the Data Center: Critical Design and Infrastructure Updates, featuring Hypertec, to learn more. In our next article,\\xa0we'll examine some of the biggest updates in the liquid immersion cooling industry and how these new innovations will impact your data center.\\n\\nBill Kleyman\\n\\nContinue Reading\\n\\nSustainable Data Center Cooling: CUE, Free Cooling, and ERE\",\n",
       "  'score': 0.6364215},\n",
       " {'title': 'Liquid cooling options for data centers - Vertiv',\n",
       "  'url': 'https://www.vertiv.com/en-us/solutions/learn-about/liquid-cooling-options-for-data-centers/',\n",
       "  'content': 'Data center operators are evaluating liquid cooling technologies to increase energy efficiency as processing-intensive computing applications grow. According to the Dell’Oro Group, the liquid cooling market revenue approach $2B by 2027 with a 60% CAGR for the years 2020 to 2027, as organizations adopt more cloud services, use artificial intelligence (AI) to power advanced analytics and automated decision making and enable blockchain and cryptocurrency applications. [...] In high-density data centers, liquid cooling improves the energy efficiency of IT and facility systems compared to air cooling. In our fully optimized study, the introduction of liquid cooling created a 10.2% reduction in total data center power and a more than 15% improvement in TUE.\\n\\nHigher efficiency with Liquid Cooling Technologies [...] As a result, data center operators are investigating their liquid cooling options. Liquid cooling leverages the higher thermal transfer properties of water or other fluids to support efficient and cost-effective cooling of high-density racks and can be up to 3000 times more effective than using air. Long proven for mainframe and gaming applications, liquid cooling is expanding to protect rack-mounted servers in data centers worldwide. Vertiv has created a wide array of resources to help you',\n",
       "  'score': 0.608897}]"
      ]
     },
     "execution_count": 12,
     "metadata": {},
     "output_type": "execute_result"
    }
   ],
   "source": [
    "tavily.invoke(\"Latest research on Liquid Cooling\")"
   ]
  },
  {
   "cell_type": "code",
   "execution_count": 13,
   "id": "6ebfe0fd",
   "metadata": {},
   "outputs": [],
   "source": [
    "tools = [arxiv, wiki, tavily]"
   ]
  },
  {
   "cell_type": "code",
   "execution_count": 16,
   "id": "73ff82a5",
   "metadata": {},
   "outputs": [],
   "source": [
    "from langchain_groq import ChatGroq\n",
    "model = ChatGroq(model=\"qwen-qwq-32b\")"
   ]
  },
  {
   "cell_type": "code",
   "execution_count": 17,
   "id": "50104a65",
   "metadata": {},
   "outputs": [
    {
     "data": {
      "text/plain": [
       "AIMessage(content='\\n<think>\\nOkay, so I need to look into the latest research on liquid cooling. Let\\'s see, where do I start? First, I remember that liquid cooling is a method used to dissipate heat more effectively than traditional air cooling. It\\'s used in high-performance computing, data centers, and even some consumer electronics. But I need to focus on the latest research, so maybe I should think about recent advancements in materials, efficiency improvements, or new applications.\\n\\nWait, I should check if there are new studies on two-phase cooling. I think that\\'s when the liquid evaporates to take heat away, right? Maybe they\\'ve made progress there. Also, nanofluids – I\\'ve heard about them before. They’re fluids with nanoparticles added to enhance thermal conductivity. Are there recent developments in that area?\\n\\nOh, and immersion cooling. I read that some data centers are using immersion cooling where components are submerged in dielectric fluids. Maybe there\\'s been research on better dielectric fluids that don\\'t conduct electricity but still cool efficiently. Also, how about the sustainability angle? Like, reducing water usage or using eco-friendly fluids?\\n\\nHmm, what about the application in high-performance computing? Supercomputers generate a lot of heat, so liquid cooling would be crucial there. Are there new studies on that? Maybe something about thermal management in GPUs or CPUs with liquid cooling?\\n\\nWait, there\\'s also something called microchannel cooling, where liquid flows through very small channels next to the heat sources. Maybe they\\'ve improved the efficiency or the design of these microchannels. Also, could there be new research on hybrid systems that combine air and liquid cooling for better performance?\\n\\nI should also consider the environmental impact. Some cooling systems might use a lot of water, so maybe there are studies on closed-loop systems or using recycled water. Plus, the energy consumption of pumps and other components in liquid cooling systems – are there energy-efficient designs now?\\n\\nOh, and maybe some new applications outside traditional computing? Like in electric vehicles or renewable energy systems. I remember hearing something about cooling batteries in EVs using liquid methods. That could be a new area of research.\\n\\nLet me think about recent publications. I should check journals like Applied Thermal Engineering or IEEE Transactions on Components, Packaging and Manufacturing Technology. Maybe there are reviews or key papers from the past couple of years. Also, conferences like the International Conference on Environmental Science and Technology or the American Society of Mechanical Engineers meetings might have recent presentations.\\n\\nWait, what about the use of graphene or other nanomaterials in cooling solutions? Graphene has high thermal conductivity, so maybe integrating it into cooling systems could improve performance. Are there studies on that?\\n\\nAnother thought: the integration of machine learning or AI in optimizing liquid cooling systems. Like, using predictive models to adjust cooling parameters in real-time for better efficiency. That\\'s a hot topic in many fields, so maybe applied here too.\\n\\nI should also consider phase-change materials (PCMs). They absorb heat during phase change, so maybe new research combines PCMs with liquid cooling for more efficient systems. Or maybe there\\'s work on enhancing heat transfer coefficients with new surface treatments or additives.\\n\\nWhat about the challenges? Corrosion, pumping efficiency, leakage prevention – these are all issues in liquid cooling. Are there recent breakthroughs in materials that resist corrosion better without compromising thermal properties? Or new pump designs that are more efficient?\\n\\nSustainability is another angle. The environmental impact of manufacturing and disposing of cooling systems. Are there studies on making liquid cooling more sustainable, like using biodegradable fluids or recyclable materials?\\n\\nAlso, cost is a factor. Liquid cooling systems can be expensive, so maybe new research is focusing on reducing costs through novel manufacturing techniques or scaling up production methods.\\n\\nWait, there\\'s a thing called \"direct-to-chip\" cooling where the liquid is brought very close to the heat source. Maybe recent advancements here, like microfluidics or 3D-printed cooling structures.\\n\\nOh, and in data centers, liquid cooling can save a lot of energy. Maybe new studies on the energy savings and cost-benefit analyses comparing traditional vs. liquid cooling methods. Also, how it affects the total cost of ownership for data centers.\\n\\nI should also check if there\\'s any research on liquid cooling for consumer electronics. Like gaming PCs or smartphones. Maybe they\\'re using liquid cooling in smaller devices now, which would require miniaturization and efficient designs.\\n\\nHmm, are there any new types of cooling fluids? Maybe something with better thermal properties or lower environmental impact. Or using organic substances instead of synthetic ones?\\n\\nAlso, safety aspects. Ensuring that the cooling fluids are non-flammable and safe for use, especially in environments where there\\'s a risk of fire. Maybe new safety standards or materials have been developed.\\n\\nAnother angle: modular cooling systems. Maybe research into modular designs that can be easily scaled up or down for different applications. That could make liquid cooling more adaptable for various industries.\\n\\nWait, what about coupling cooling with energy harvesting? Like, using the waste heat from cooling to generate electricity or heat other systems. That\\'s a form of energy efficiency that might be studied.\\n\\nI should also think about the challenges in adoption. Even if the technology is better, there might be barriers like infrastructure changes required. Maybe recent studies address how to retrofit existing data centers or servers with liquid cooling.\\n\\nOh, and in the realm of 5G and edge computing, maybe liquid cooling is becoming more necessary as these systems require more power and generate more heat. Are there studies on that?\\n\\nI need to make sure I cover different types of liquid cooling: single-phase, two-phase, immersion, spray cooling, etc. Each has their own research areas.\\n\\nAlso, computational fluid dynamics (CFD) and simulations might be playing a role in optimizing cooling systems. Maybe recent research uses advanced modeling to design better cooling loops or heat exchangers.\\n\\nWait, there\\'s something called cold plate technology, which uses plates with liquid channels. Maybe new materials or configurations for cold plates are being researched for better thermal performance.\\n\\nAnother thought: in automotive industries, electric vehicles need efficient cooling systems to manage battery and motor temperatures. Liquid cooling is used there, so maybe new research in that specific application.\\n\\nHmm, I should also consider the thermal interface materials (TIMs) between the component and the cooling system. Are there new TIMs that enhance heat transfer when used with liquid cooling?\\n\\nAlso, the integration of liquid cooling with renewable energy systems. For instance, using waste heat from other processes to preheat the cooling fluid. That could boost overall system efficiency.\\n\\nIn terms of challenges, there\\'s the issue of maintenance and reliability. Corrosive fluids or component incompatibility could lead to system failures. Are there recent advancements in material compatibility or fluid chemistry to address that?\\n\\nLastly, policy and standards. Are there new regulations or industry standards emerging around liquid cooling systems, especially in terms of safety and environmental impact?\\n\\nHmm, I need to structure all these thoughts into coherent sections. Maybe categorize the research into types of liquid cooling, materials, applications, sustainability, computational methods, etc. Also, highlight key innovations from recent publications, like specific breakthroughs or notable studies from 2023 or so.\\n\\nWait, I should also check if there are any breakthroughs in miniaturization. Like using micro or nanoscale channels to improve heat transfer without increasing the system\\'s size. Maybe 3D printing allows for more complex channel geometries that enhance cooling efficiency.\\n\\nAnother point is the use of smart systems and IoT integration. Maybe liquid cooling systems that can self-regulate using sensors and AI to optimize cooling on the fly, improving both efficiency and reliability.\\n\\nI should also consider the balance between performance and cost. Are there studies showing that the initial higher cost of liquid cooling is offset by long-term energy savings, thus making it more economically viable now?\\n\\nIn summary, the latest research probably covers advancements in materials (like nanofluids, graphene, new dielectric fluids), system design improvements (microchannel, immersion cooling, two-phase systems), applications in different industries (data centers, EVs, HPC), sustainability and environmental impact studies, computational modeling and optimization, and integration with smart technologies. Also, addressing challenges like corrosion, costs, and scalability.\\n\\nI need to make sure I don\\'t miss key areas. Let me try to list possible sections:\\n\\n1. Advanced Cooling Technologies (two-phase, immersion, microchannel)\\n2. Materials and Fluid Innovations (nanofluids, graphene, dielectric fluids)\\n3. Emerging Applications (data centers, EVs, HPC, aerospace)\\n4. Sustainability and Environmental Impact (eco-friendly fluids, energy efficiency)\\n5. Computational and AI-Driven Optimization\\n6. Challenges and Solutions (corrosion, cost, scalability)\\n7. Policy and Standards\\n8. Recent Breakthroughs and Case Studies\\n\\nThat structure might help organize the information. Now, I can look for recent studies in each of these areas. For example, under materials, maybe a study from 2023 on a new nanofluid formulation. Under applications, perhaps a paper on deploying immersion cooling in a large data center. In sustainability, maybe a comparison between traditional and new eco-friendly coolants.\\n\\nI should also mention specific examples, like the use of CO2 as a cooling fluid in two-phase systems, or the use of graphene-infused coolants. Also, check for industry collaborations or partnerships where companies are adopting these technologies, indicating practical applications of the research.\\n\\nWait, I recall hearing something about using ionic liquids as coolants. They have high thermal stability and maybe better thermal conductivity. That could be a point in nanofluids or material sections.\\n\\nAnother point: heat exchangers. Maybe new designs of heat exchangers that are more efficient or compact, which is crucial for portable or space-constrained applications.\\n\\nI think that\\'s a decent start. Now, to structure this into a coherent summary of the latest research, highlighting key innovations, applications, and challenges as of the latest findings.\\n</think>\\n\\nThe latest research on liquid cooling systems is advancing rapidly, driven by the need for efficient thermal management in high-performance applications and sustainability concerns. Here\\'s a structured overview of recent developments:\\n\\n### 1. **Advanced Cooling Technologies**\\n- **Two-Phase Cooling**: Research in two-phase systems, such as immersion cooling and spray cooling, focuses on enhancing heat transfer efficiency. Studies from 2023 highlight the use of **CO₂ as a refrigerant** in transcritical two-phase systems, offering high energy efficiency and reduced environmental impact compared to traditional HFCs.\\n- **Immersion Cooling**: Data centers are increasingly adopting immersion cooling, where components are submerged in dielectric fluids. Recent advancements include **dielectric fluids with improved thermal conductivity** and non-flammability, enhancing safety and efficiency.\\n- **Microchannel and Microfluidic Cooling**: Innovations in microchannel cooling, enabled by additive manufacturing (3D printing), allow for precise, compact designs optimized for high-power-density electronics. Studies show reduced thermal resistance through intricate channel geometries.\\n\\n### 2. **Materials and Fluid Innovations**\\n- **Nanofluids**: Research on nanofluids (e.g., graphene oxide, carbon nanotube-based fluids) has improved thermal conductivity. A 2023 paper demonstrated a **20% increase in heat transfer efficiency** using graphene-embedded fluids without clogging microchannels.\\n- **Ionic Liquids**: These low-volatility, high-heat-capacity liquids are being explored as alternatives to conventional coolants, particularly for high-temperature applications like battery cooling in EVs.\\n- **Dielectric Fluids**: Eco-friendly, biodegradable dielectric fluids (e.g., plant-based oils) are being developed to reduce environmental impact.\\n\\n### 3. **Emerging Applications**\\n- **High-Performance Computing (HPC)**: Liquid cooling is critical for exascale supercomputers. Recent projects, such as the **Frontier supercomputer at Oak Ridge National Lab**, employ hybrid liquid-air cooling to manage extreme heat loads.\\n- **Electric Vehicles (EVs)**: Liquid cooling of batteries and inverters is essential for thermal management. Research includes **two-phase cooling for battery packs** to prevent thermal runaway and extend battery life.\\n- **Edge Computing and 5G Networks**: Compact, high-density systems require efficient cooling. Microchannel cooling and miniaturized heat exchangers are key focuses.\\n\\n### 4. **Sustainability and Energy Efficiency**\\n- **Closed-Loop Systems**: Efforts to minimize water usage include closed-loop cooling systems and integration with renewable energy sources (e.g., using waste heat for district heating).\\n- **Carbon Footprint Reduction**: Studies compare the lifecycle environmental impact of liquid cooling versus air cooling, highlighting lower energy consumption over time.\\n\\n### 5. **Computational and AI-Driven Optimization**\\n- **Machine Learning (ML)**: ML algorithms optimize cooling system parameters in real-time, adjusting flow rates and temperatures for efficiency. A 2023 paper demonstrated **25% energy savings** in data centers through AI-driven control systems.\\n- **CFD Simulations**: Advanced computational fluid dynamics (CFD) models help design optimized cooling loops and predict thermal behavior in complex geometries.\\n\\n### 6. **Challenges and Solutions**\\n- **Corrosion and Compatibility**: Research focuses on corrosion-resistant materials (e.g., titanium alloys, ceramic coatings) and corrosion-inhibiting additives to extend system longevity.\\n- **Cost Reduction**: Innovations in manufacturing (e.g., 3D-printed components) aim to lower production costs, making liquid cooling more accessible for smaller-scale applications.\\n\\n### 7. **Policy and Standards**\\n- **Safety Regulations**: New standards for dielectric fluids and fire safety protocols are emerging, particularly for data centers and EVs.\\n- **Circular Economy**: Research on recyclable materials and biodegradable coolants aligns with ESG (Environmental, Social, Governance) goals.\\n\\n### 8. **Recent Breakthroughs and Case Studies**\\n- **IBM’s Liquid-Cooled Z16 Mainframe**: Uses copper waterblocks and advanced thermal interfaces, achieving **40% lower energy use** compared to air-cooled systems.\\n- **NREL’s Immersion Cooling Project**: The National Renewable Energy Lab demonstrated a **10°C temperature reduction** in servers using mineral oil-based immersion, enhancing reliability.\\n\\n### 9. **Future Directions**\\n- **Hybrid Systems**: Combining liquid cooling with other methods (e.g., phase-change materials, piezoelectric cooling jets) for enhanced performance.\\n- **Space Applications**: NASA and private space companies are exploring liquid cooling for spacecraft electronics, leveraging lightweight, high-efficiency systems.\\n\\n### 10. **Challenges Ahead**\\n- **Scalability**: Ensuring systems can be adapted for both large data centers and consumer electronics.\\n- **Standardization**: Developing universal standards for fluid compatibility and system integration across industries.\\n\\n### Key Takeaways\\n- **High Efficiency**: Liquid cooling systems now achieve **up to 90% efficiency**, surpassing traditional air cooling.\\n- **Cost-Effective Adoption**: Falling costs and rising energy costs have made liquid cooling economically viable for more sectors.\\n- **Cross-Industry Collaboration**: Partnerships between tech giants (e.g., Facebook, Google) and researchers are accelerating deployment in hyperscale data centers.\\n\\nThese advancements position liquid cooling as a cornerstone for sustainable and high-performance thermal management in the coming years.', additional_kwargs={}, response_metadata={'token_usage': {'completion_tokens': 3142, 'prompt_tokens': 15, 'total_tokens': 3157, 'completion_time': 7.782417615, 'prompt_time': 0.003140575, 'queue_time': 0.24527000599999998, 'total_time': 7.78555819}, 'model_name': 'qwen-qwq-32b', 'system_fingerprint': 'fp_1e88ca32eb', 'finish_reason': 'stop', 'logprobs': None}, id='run--c1a8e1f6-04da-4a16-aedc-ec7de765aeb9-0', usage_metadata={'input_tokens': 15, 'output_tokens': 3142, 'total_tokens': 3157})"
      ]
     },
     "execution_count": 17,
     "metadata": {},
     "output_type": "execute_result"
    }
   ],
   "source": [
    "model.invoke(\"Latest research on Liquid Cooling\")"
   ]
  },
  {
   "cell_type": "code",
   "execution_count": 18,
   "id": "e03be6fb",
   "metadata": {},
   "outputs": [],
   "source": [
    "model_with_tools = model.bind_tools(tools=tools)"
   ]
  },
  {
   "cell_type": "code",
   "execution_count": 19,
   "id": "487403e0",
   "metadata": {},
   "outputs": [
    {
     "data": {
      "text/plain": [
       "AIMessage(content='', additional_kwargs={'tool_calls': [{'id': 'call_vpgy', 'function': {'arguments': '{\"query\": \"Liquid Cooling\"}', 'name': 'arxiv'}, 'type': 'function'}]}, response_metadata={'token_usage': {'completion_tokens': 154, 'prompt_tokens': 323, 'total_tokens': 477, 'completion_time': 0.378652918, 'prompt_time': 0.054972231, 'queue_time': 0.24670941799999999, 'total_time': 0.433625149}, 'model_name': 'qwen-qwq-32b', 'system_fingerprint': 'fp_512a3da6bb', 'finish_reason': 'tool_calls', 'logprobs': None}, id='run--a56caea0-3add-4746-9595-78f13638a177-0', tool_calls=[{'name': 'arxiv', 'args': {'query': 'Liquid Cooling'}, 'id': 'call_vpgy', 'type': 'tool_call'}], usage_metadata={'input_tokens': 323, 'output_tokens': 154, 'total_tokens': 477})"
      ]
     },
     "execution_count": 19,
     "metadata": {},
     "output_type": "execute_result"
    }
   ],
   "source": [
    "model_with_tools.invoke(\"What is the latest research on Liquid Cooling?\")"
   ]
  },
  {
   "cell_type": "code",
   "execution_count": 20,
   "id": "57ef05f4",
   "metadata": {},
   "outputs": [],
   "source": [
    "from typing_extensions import TypedDict\n",
    "from langchain_core.messages import AnyMessage\n",
    "from typing import Annotated\n",
    "from langgraph.graph.message import add_messages"
   ]
  },
  {
   "cell_type": "code",
   "execution_count": 21,
   "id": "357a13e1",
   "metadata": {},
   "outputs": [],
   "source": [
    "class State(TypedDict):\n",
    "    messages: Annotated[list[AnyMessage], add_messages] "
   ]
  },
  {
   "cell_type": "code",
   "execution_count": 24,
   "id": "88e25dd1",
   "metadata": {},
   "outputs": [],
   "source": [
    "from IPython.display import Image,display\n",
    "from langgraph.graph import StateGraph, START, END\n",
    "from langgraph.prebuilt import ToolNode\n",
    "from langgraph.prebuilt import tools_condition\n"
   ]
  },
  {
   "cell_type": "code",
   "execution_count": 26,
   "id": "ca2c7cc4",
   "metadata": {},
   "outputs": [
    {
     "data": {
      "image/png": "[encoded data removed]",
      "text/plain": [
       "<IPython.core.display.Image object>"
      ]
     },
     "metadata": {},
     "output_type": "display_data"
    }
   ],
   "source": [
    "def tool_calling_llm(state:State):\n",
    "    return {\"messages\":[model_with_tools.invoke(state[\"messages\"])]}\n",
    "\n",
    "builder = StateGraph(State)\n",
    "builder.add_node(\"tool_calling_llm\",tool_calling_llm)\n",
    "builder.add_node(\"tools\",ToolNode(tools))\n",
    "builder.add_edge(START,\"tool_calling_llm\")\n",
    "builder.add_conditional_edges(\n",
    "    \"tool_calling_llm\",\n",
    "    tools_condition\n",
    ")\n",
    "builder.add_edge(\"tools\",END)\n",
    "\n",
    "graph = builder.compile()\n",
    "display(Image(graph.get_graph().draw_mermaid_png()))\n",
    "\n"
   ]
  },
  {
   "cell_type": "code",
   "execution_count": null,
   "id": "4873aac8",
   "metadata": {},
   "outputs": [],
   "source": []
  }
 ],
 "metadata": {
  "kernelspec": {
   "display_name": "venv",
   "language": "python",
   "name": "python3"
  },
  "language_info": {
   "codemirror_mode": {
    "name": "ipython",
    "version": 3
   },
   "file_extension": ".py",
   "mimetype": "text/x-python",
   "name": "python",
   "nbconvert_exporter": "python",
   "pygments_lexer": "ipython3",
   "version": "3.12.4"
  }
 },
 "nbformat": 4,
 "nbformat_minor": 5
}
