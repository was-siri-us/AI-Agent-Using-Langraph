{
 "cells": [
  {
   "cell_type": "code",
   "execution_count": 3,
   "id": "179893de",
   "metadata": {},
   "outputs": [],
   "source": [
    "import os\n",
    "from langchain_groq import ChatGroq\n",
    "from langchain_openai import ChatOpenAI\n",
    "from langgraph.prebuilt import create_react_agent\n",
    "from langchain_community.tools.tavily_search import TavilySearchResults"
   ]
  },
  {
   "cell_type": "code",
   "execution_count": 4,
   "id": "84b84912",
   "metadata": {},
   "outputs": [],
   "source": [
    "GROQ_API_KEY = os.getenv(\"GROQ_API_KEY\")\n",
    "TAVILY_API_KEY = os.getenv(\"TAVILY_API_KEY\")\n",
    "OPENAI_API_KEY = os.getenv(\"OPENAI_API_KEY\")"
   ]
  },
  {
   "cell_type": "code",
   "execution_count": 5,
   "id": "e9876cde",
   "metadata": {},
   "outputs": [],
   "source": [
    "openai_llm = ChatOpenAI(model=\"gpt-4o-min\",api_key=OPENAI_API_KEY)\n",
    "groq_llm = ChatGroq(model=\"qwen-qwq-32b\")"
   ]
  },
  {
   "cell_type": "code",
   "execution_count": 6,
   "id": "4ece628f",
   "metadata": {},
   "outputs": [],
   "source": [
    "search_tool  = TavilySearchResults(max_results=2)\n",
    "system_prompt = \"Act as an AI Chat bot who is smart and friendly\"\n"
   ]
  },
  {
   "cell_type": "code",
   "execution_count": 7,
   "id": "87850e40",
   "metadata": {},
   "outputs": [],
   "source": [
    "agent = create_react_agent(\n",
    "    model=groq_llm,\n",
    "    tools=[search_tool],\n",
    "    state_modifier=system_prompt\n",
    ")"
   ]
  },
  {
   "cell_type": "code",
   "execution_count": 8,
   "id": "fa0ad5c3",
   "metadata": {},
   "outputs": [
    {
     "name": "stdout",
     "output_type": "stream",
     "text": [
      "{'messages': [HumanMessage(content='tell about trends in AI', additional_kwargs={}, response_metadata={}, id='8e7ac072-eee0-4b04-a440-d6d593ada530'), AIMessage(content='', additional_kwargs={'tool_calls': [{'id': 'call_tfb6', 'function': {'arguments': '{\"query\":\"latest trends in AI technology 2023\"}', 'name': 'tavily_search_results_json'}, 'type': 'function'}]}, response_metadata={'token_usage': {'completion_tokens': 404, 'prompt_tokens': 204, 'total_tokens': 608, 'completion_time': 0.935023991, 'prompt_time': 0.027640451, 'queue_time': 0.28105189199999997, 'total_time': 0.962664442}, 'model_name': 'qwen-qwq-32b', 'system_fingerprint': 'fp_28178d7ff6', 'finish_reason': 'tool_calls', 'logprobs': None}, id='run--cac7925d-0b5a-4c2e-a60b-b6249c426146-0', tool_calls=[{'name': 'tavily_search_results_json', 'args': {'query': 'latest trends in AI technology 2023'}, 'id': 'call_tfb6', 'type': 'tool_call'}], usage_metadata={'input_tokens': 204, 'output_tokens': 404, 'total_tokens': 608}), ToolMessage(content='[{\"title\": \"11 New Technologies in AI: All Trends of 2023-2024 - devabit\", \"url\": \"https://devabit.com/blog/top-11-new-technologies-in-ai-exploring-the-latest-trends/\", \"content\": \"A recent LinkedIn US Executive Confidence Index Survey from June 2023 reflects an optimistic outlook: 47% of executives believe generative AI will boost productivity; 44% plan to augment their newest AI technology utilization in the coming year; and 40% view AI as a key to unlocking growth and revenue. Microsoft\\'s 2023 Work Trend Index further bolsters this sentiment, revealing that a whopping 70% of individuals would gladly delegate tasks to AI to ease their workloads. [...] GPT-3.5 and GPT-4 are just the beginning. The pace of AI model development suggests that even more capable language models are on the horizon, with implications for industries ranging from content creation to virtual assistants.\\\\n\\\\nOn November 6, 2023, CEO of OpenAI Sam Altman introduced a completely new version of Chat GPT that includes GPTs, Chat GPT Store, GPT-4 Turbo, and other new technologies in AI that we are going to describe in this article. [...] To begin with, the MarketsandMarkets research states that the global artificial intelligence market is projected to reach USD 1345.2 billion by 2030, at a CAGR of 36.8% during the forecast period of 2023–2030. Such rapid growth is caused by its synergistic interaction with various other technologies. The convergence of artificial intelligence with other transformative technologies such as the Internet of Things (IoT), robotics, natural language processing (NLP), and computer vision enhances\", \"score\": 0.86954874}, {\"title\": \"Four trends that changed AI in 2023 | MIT Technology Review\", \"url\": \"https://www.technologyreview.com/2023/12/19/1085696/four-trends-that-changed-ai-in-2023/\", \"content\": \"The year started with Big Tech\\xa0going all in\\xa0on generative AI. The runaway success of\\xa0OpenAI’s ChatGPT\\xa0prompted every major tech company to release its own version. This year might go down in history as the year we saw the most AI launches: Meta’s\\xa0LLaMA 2, Google’s\\xa0Bard\\xa0chatbot and\\xa0Gemini, Baidu’s\\xa0Ernie Bot, OpenAI’s\\xa0GPT-4, and a handful of other models, including one from a French open-source challenger, Mistral. [...] The country poured billions into AI infrastructure, but the data center gold rush is unraveling as speculative investments collide with weak demand and DeepSeek shifts AI trends.\\\\n\\\\nCyberattacks by AI agents are coming\\\\n\\\\nAgents could make it easier and cheaper for criminals to hack systems at scale. We need to be ready.\\\\n\\\\nHow AI can help supercharge creativity [...] This has been one of the craziest years in AI in a long time: endless product launches, boardroom coups, intense policy debates about AI doom, and a race to find the next big thing. But we’ve also seen concrete tools and policies aimed at getting the AI sector to behave more responsibly and hold powerful players accountable. That gives me a lot of hope for the future of AI.\\\\n\\\\nHere’s what 2023 taught me:\\\\n\\\\n1. Generative AI left the lab with a vengeance, but it’s not clear where it will go next\", \"score\": 0.8506799}]', name='tavily_search_results_json', id='f8f41791-41ff-4ce1-a8db-4b3516f36cd5', tool_call_id='call_tfb6', artifact={'query': 'latest trends in AI technology 2023', 'follow_up_questions': None, 'answer': None, 'images': [], 'results': [{'url': 'https://devabit.com/blog/top-11-new-technologies-in-ai-exploring-the-latest-trends/', 'title': '11 New Technologies in AI: All Trends of 2023-2024 - devabit', 'content': \"A recent LinkedIn US Executive Confidence Index Survey from June 2023 reflects an optimistic outlook: 47% of executives believe generative AI will boost productivity; 44% plan to augment their newest AI technology utilization in the coming year; and 40% view AI as a key to unlocking growth and revenue. Microsoft's 2023 Work Trend Index further bolsters this sentiment, revealing that a whopping 70% of individuals would gladly delegate tasks to AI to ease their workloads. [...] GPT-3.5 and GPT-4 are just the beginning. The pace of AI model development suggests that even more capable language models are on the horizon, with implications for industries ranging from content creation to virtual assistants.\\n\\nOn November 6, 2023, CEO of OpenAI Sam Altman introduced a completely new version of Chat GPT that includes GPTs, Chat GPT Store, GPT-4 Turbo, and other new technologies in AI that we are going to describe in this article. [...] To begin with, the MarketsandMarkets research states that the global artificial intelligence market is projected to reach USD 1345.2 billion by 2030, at a CAGR of 36.8% during the forecast period of 2023–2030. Such rapid growth is caused by its synergistic interaction with various other technologies. The convergence of artificial intelligence with other transformative technologies such as the Internet of Things (IoT), robotics, natural language processing (NLP), and computer vision enhances\", 'score': 0.86954874, 'raw_content': None}, {'url': 'https://www.technologyreview.com/2023/12/19/1085696/four-trends-that-changed-ai-in-2023/', 'title': 'Four trends that changed AI in 2023 | MIT Technology Review', 'content': 'The year started with Big Tech\\xa0going all in\\xa0on generative AI. The runaway success of\\xa0OpenAI’s ChatGPT\\xa0prompted every major tech company to release its own version. This year might go down in history as the year we saw the most AI launches: Meta’s\\xa0LLaMA 2, Google’s\\xa0Bard\\xa0chatbot and\\xa0Gemini, Baidu’s\\xa0Ernie Bot, OpenAI’s\\xa0GPT-4, and a handful of other models, including one from a French open-source challenger, Mistral. [...] The country poured billions into AI infrastructure, but the data center gold rush is unraveling as speculative investments collide with weak demand and DeepSeek shifts AI trends.\\n\\nCyberattacks by AI agents are coming\\n\\nAgents could make it easier and cheaper for criminals to hack systems at scale. We need to be ready.\\n\\nHow AI can help supercharge creativity [...] This has been one of the craziest years in AI in a long time: endless product launches, boardroom coups, intense policy debates about AI doom, and a race to find the next big thing. But we’ve also seen concrete tools and policies aimed at getting the AI sector to behave more responsibly and hold powerful players accountable. That gives me a lot of hope for the future of AI.\\n\\nHere’s what 2023 taught me:\\n\\n1. Generative AI left the lab with a vengeance, but it’s not clear where it will go next', 'score': 0.8506799, 'raw_content': None}], 'response_time': 3.51}), AIMessage(content='Here\\'s a friendly summary of the latest AI trends based on current research:\\n\\n1. **Generative AI Explosion**  \\n   - Companies like OpenAI (GPT-4, ChatGPT Store), Meta (LLaMA 2), and Google (Gemini) are racing to release advanced models, with 2023 dubbed the \"Year of Generative AI.\"  \\n   - Tools like GPT-4 Turbo aim to make AI faster and cheaper for businesses.\\n\\n2. **Market Growth & Investment**  \\n   - The global AI market is projected to hit **$1.35 trillion by 2030** ( MarketsandMarkets), driven by AI\\'s integration with IoT, robotics, and NLP.\\n\\n3. **AI Convergence**  \\n   - AI is merging with other tech:  \\n     - *Healthcare*: AI diagnostics and drug discovery.  \\n     - *Creativity*: Tools like DALL-E and MidJourney for art and design.  \\n     - *Workplace*: Chatbots and automation tools to streamline tasks.\\n\\n4. **Ethical & Safety Concerns**  \\n   - Risks like deepfakes, biased algorithms, and AI-driven cyberattacks (e.g., \"AI agents\" hacking systems) are prompting calls for regulation.  \\n   - Companies are now emphasizing \"responsible AI\" frameworks to address these issues.\\n\\n5. **Corporate Competition & Hype**  \\n   - Big Tech’s frenzy to launch models has led to overcrowded markets (e.g., over 50 generative AI startups in 2023), but many question *sustainable use cases*.  \\n   - Meanwhile, debates about AI’s societal impact (job displacement, misinformation) are growing louder.\\n\\n**Fun Fact**: 70% of people want to offload tasks to AI (Microsoft’s Work Trend Index), showing high user demand despite the growing pains!\\n\\nLet me know if you\\'d like deeper insights on any specific area! 😊', additional_kwargs={}, response_metadata={'token_usage': {'completion_tokens': 801, 'prompt_tokens': 1054, 'total_tokens': 1855, 'completion_time': 1.8615666119999998, 'prompt_time': 0.123705924, 'queue_time': 0.300276828, 'total_time': 1.985272536}, 'model_name': 'qwen-qwq-32b', 'system_fingerprint': 'fp_28178d7ff6', 'finish_reason': 'stop', 'logprobs': None}, id='run--c7d9ce4a-ad93-4e31-ba2b-73e3d7f5d8b3-0', usage_metadata={'input_tokens': 1054, 'output_tokens': 801, 'total_tokens': 1855})]}\n"
     ]
    }
   ],
   "source": [
    "query = \"tell about trends in AI\"\n",
    "state = {\"messages\":query}\n",
    "response = agent.invoke(state)\n",
    "\n",
    "print(response)"
   ]
  }
 ],
 "metadata": {
  "kernelspec": {
   "display_name": "venv",
   "language": "python",
   "name": "python3"
  },
  "language_info": {
   "codemirror_mode": {
    "name": "ipython",
    "version": 3
   },
   "file_extension": ".py",
   "mimetype": "text/x-python",
   "name": "python",
   "nbconvert_exporter": "python",
   "pygments_lexer": "ipython3",
   "version": "3.12.4"
  }
 },
 "nbformat": 4,
 "nbformat_minor": 5
}
